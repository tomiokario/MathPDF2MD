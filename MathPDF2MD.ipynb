{
  "nbformat": 4,
  "nbformat_minor": 0,
  "metadata": {
    "colab": {
      "provenance": [],
      "gpuType": "T4",
      "authorship_tag": "ABX9TyObVZojKiNU47Hijt76xmAc",
      "include_colab_link": true
    },
    "kernelspec": {
      "name": "python3",
      "display_name": "Python 3"
    },
    "language_info": {
      "name": "python"
    }
  },
  "cells": [
    {
      "cell_type": "markdown",
      "metadata": {
        "id": "view-in-github",
        "colab_type": "text"
      },
      "source": [
        "<a href=\"https://colab.research.google.com/github/tomiokario/MathPDF2MD/blob/main/MathPDF2MD.ipynb\" target=\"_parent\"><img src=\"https://colab.research.google.com/assets/colab-badge.svg\" alt=\"Open In Colab\"/></a>"
      ]
    },
    {
      "cell_type": "markdown",
      "source": [
        "# 数式を含むPDFをMarkdownに変換\n",
        "**概要**\n",
        "- 数式を含むPDFをOCRしてMarkdownに変換することができます．\n",
        "- Nougat (Neural Optical Understanding for Academic Documents)[1,2]を使用します．\n",
        "- 無料版Google Colabで実行できます[3]．\n",
        "\n",
        "**License**\n",
        "- Nougat codebase is licensed under [MIT](https://opensource.org/license/mit/) [1,2].\n",
        "- Nougat model weights are licensed under [CC BY-NC](https://creativecommons.org/licenses/by-nc/4.0/deed.ja) [1,2].\n",
        "\n",
        "\n",
        "**参考**\n",
        "1. [Nougat](https://facebookresearch.github.io/nougat/)\n",
        "2. [facebookresearch/nougat: Implementation of Nougat Neural Optical Understanding for Academic Documents](https://github.com/facebookresearch/nougat)\n",
        "3. [数式を含むPDFをOCRしてマークダウン形式に変換できる、Nougatを試す｜はまち](https://note.com/hamachi_jp/n/n7f5f35b38768)\n",
        "\n",
        "---\n",
        "\n",
        "## I. 前準備\n",
        "1. ランタイムの設定をGPUに変更\n",
        "2. PDFファイルをアップロード\n",
        "  - サイドバー(左)のフォルダメニュー(📁)を開いて，PDFをドラッグアンドドロップ\n"
      ],
      "metadata": {
        "id": "bkZqj38PxdWn"
      }
    },
    {
      "cell_type": "markdown",
      "source": [
        "## II. Nougatのインストール"
      ],
      "metadata": {
        "id": "bNWe_5zdu5pw"
      }
    },
    {
      "cell_type": "code",
      "execution_count": null,
      "metadata": {
        "id": "TK-8gD8Hs8Za"
      },
      "outputs": [],
      "source": [
        "!pip install nougat-ocr"
      ]
    },
    {
      "cell_type": "markdown",
      "source": [
        "## II. Nougatの実行\n",
        "1. PDFファイルパスを取得\n",
        "  - サイドバー(左)からフォルダメニュー(📁)を開いて，右端のオプション(縦三点)を押して，「パスをコピー」を押す\n",
        "2. 以下のスクリプト内部の対応する箇所にペースト\n",
        "  - 具体的な形式はデフォルトで入力されているサンプルを参照"
      ],
      "metadata": {
        "id": "Amf4B7LTtygP"
      }
    },
    {
      "cell_type": "code",
      "source": [
        "!nougat /content/2308.00088.pdf --out ."
      ],
      "metadata": {
        "id": "nsAUZ6HYvAwu"
      },
      "execution_count": null,
      "outputs": []
    },
    {
      "cell_type": "markdown",
      "source": [
        "## IV. Markdownファイルのダウンロード\n",
        "- サイドバーからファイルメニューを開いて，markdownファイルをダウンロードする．\n",
        "\n",
        "※ファイルメニューのデータはランタイム終了時に削除されることに注意"
      ],
      "metadata": {
        "id": "rdCFuczw0OLo"
      }
    },
    {
      "cell_type": "markdown",
      "source": [
        "## (Option)MakrdownからScrapbox記法に変換する\n",
        "1. 以下のコードブロックの変数(`input_path`)にmarkdownファイルのパスを指定\n",
        "2. コードを実行してファイルメニューに出力されるtxtファイルをダウンロード\n",
        "※実行後，txtファイルへの書き込みが終了するまで十数秒ほどかかります"
      ],
      "metadata": {
        "id": "BOl72_JO7icf"
      }
    },
    {
      "cell_type": "code",
      "source": [
        "input_path = '/content/2308.00088.mmd'  # このパスは適切に設定してください\n",
        "output_path = input_path+'.txt'  # 出力するファイルのパス"
      ],
      "metadata": {
        "id": "1MbG3Ukc9vsR"
      },
      "execution_count": null,
      "outputs": []
    },
    {
      "cell_type": "code",
      "source": [
        "import re\n",
        "\n",
        "def markdown_to_scrapbox(line):\n",
        "    # Heading conversion\n",
        "    line = re.sub(r'^###### (.+)$', r'[* \\1]', line)\n",
        "    line = re.sub(r'^##### (.+)$', r'[* \\1]', line)\n",
        "    line = re.sub(r'^#### (.+)$', r'[* \\1]', line)\n",
        "    line = re.sub(r'^### (.+)$', r'[** \\1]', line)\n",
        "    line = re.sub(r'^## (.+)$', r'[*** \\1]', line)\n",
        "    line = re.sub(r'^# (.+)$', r'[**** \\1]', line)\n",
        "\n",
        "    # Strong emphasis (bold)\n",
        "    line = re.sub(r'\\*\\*(.+?)\\*\\*', r'[* \\1]', line)\n",
        "\n",
        "    # Links\n",
        "    line = re.sub(r'\\[(.+?)\\]\\((http[s]?://.+?)\\)', r'[\\1 \\2]', line)\n",
        "    line = re.sub(r'(http[s]?://.+)', r'[\\1]', line)\n",
        "\n",
        "    # 数式 (例: \\( ... \\) を [$ ... ] に変換)\n",
        "    line = re.sub(r'\\\\\\((.+?)\\\\\\)', r'[$ \\1]', line)\n",
        "\n",
        "    # Indentation and Lists (very basic)\n",
        "    line = re.sub(r'^    - (.+)$', r'      \\1', line)\n",
        "    line = re.sub(r'^   - (.+)$', r'     \\1', line)\n",
        "    line = re.sub(r'^  - (.+)$', r'    \\1', line)\n",
        "    line = re.sub(r'^ - (.+)$', r'   \\1', line)\n",
        "    line = re.sub(r'^- (.+)$', r'  \\1', line)\n",
        "\n",
        "    line = re.sub(r'^    \\* (.+)$', r'      \\1', line)\n",
        "    line = re.sub(r'^   \\* (.+)$', r'     \\1', line)\n",
        "    line = re.sub(r'^  \\* (.+)$', r'    \\1', line)\n",
        "    line = re.sub(r'^ \\* (.+)$', r'   \\1', line)\n",
        "    line = re.sub(r'^\\* (.+)$', r'  \\1', line)\n",
        "\n",
        "    return line\n",
        "\n",
        "# 入力ファイルを開く\n",
        "with open(input_path, 'r', encoding='utf-8') as f:\n",
        "    array = [line.strip() for line in f.readlines()]\n",
        "\n",
        "\n",
        "output_string = \"\"\n",
        "for line in array:\n",
        "    line = line.replace('[', '［').replace(']', '］')\n",
        "    # Convert each line and concatenate to output string\n",
        "    converted_line = markdown_to_scrapbox(line)\n",
        "    output_string += converted_line + \"\\n\"\n",
        "\n",
        "# 変換された内容を出力ファイルに書き込む\n",
        "with open(output_path, 'w', encoding='utf-8') as f:\n",
        "    f.write(output_string)"
      ],
      "metadata": {
        "id": "oU0SGnfS7nLG"
      },
      "execution_count": null,
      "outputs": []
    }
  ]
}